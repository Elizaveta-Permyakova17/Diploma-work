{
 "cells": [
  {
   "cell_type": "code",
   "execution_count": 1,
   "id": "44c9f7f7",
   "metadata": {
    "id": "44c9f7f7"
   },
   "outputs": [],
   "source": [
    "import numpy as np\n",
    "import matplotlib.pyplot as plt"
   ]
  },
  {
   "cell_type": "code",
   "execution_count": 2,
   "id": "958606fe",
   "metadata": {
    "id": "958606fe"
   },
   "outputs": [],
   "source": [
    "#Parameters of the model\n",
    "kappa = 0.1\n",
    "alpha = 0.2\n",
    "B1 = 0.4\n",
    "b2 = 0.4\n",
    "b3 = 0.4\n",
    "A1 = 0.1\n",
    "k1 = 0.5\n",
    "g1 = 0.2\n",
    "g3 = 0.2\n",
    "U0 = 2.0\n",
    "\n",
    "beta = 0.7\n",
    "a3 = 0.55\n",
    "\n",
    "D_C1 = 10**(-4)\n",
    "D_M1 = 10**(-4)"
   ]
  },
  {
   "cell_type": "code",
   "execution_count": 3,
   "id": "1a06b4a7",
   "metadata": {
    "id": "1a06b4a7"
   },
   "outputs": [],
   "source": [
    "#Initial conditions\n",
    "U_0 = 2.0\n",
    "I_0 = 0.0\n",
    "M1_0 = 0.5\n",
    "C1_0 = 0.08"
   ]
  },
  {
   "cell_type": "code",
   "execution_count": 4,
   "id": "f28a0238",
   "metadata": {
    "id": "f28a0238"
   },
   "outputs": [],
   "source": [
    "#space partitioning\n",
    "M = 4000 \n",
    "L  = 4\n",
    "h = L/M  #space step\n",
    "#time\n",
    "t = 1000\n",
    "\n",
    "x = np.linspace(0, L, M+1)"
   ]
  },
  {
   "cell_type": "code",
   "execution_count": 5,
   "id": "26ffce0f",
   "metadata": {},
   "outputs": [],
   "source": [
    "#for accuracy\n",
    "Q = np.zeros(10)\n",
    "Step = np.zeros(10)"
   ]
  },
  {
   "cell_type": "code",
   "execution_count": 6,
   "id": "4ddcf543",
   "metadata": {},
   "outputs": [],
   "source": [
    "#number of points & steps\n",
    "N1 = 1000\n",
    "N2 = 2000"
   ]
  },
  {
   "cell_type": "code",
   "execution_count": 7,
   "id": "eef7dc36",
   "metadata": {},
   "outputs": [],
   "source": [
    "# a - lower diag, b - main diag, c - upper diag, d - sol\n",
    "\n",
    "def Thomas_Method(a, b, c, d):\n",
    "    n = len(a)\n",
    "    res = np.zeros(n)\n",
    "\n",
    "    w = np.zeros(n - 1)\n",
    "    g = np.zeros(n)\n",
    "\n",
    "    w[0] = c[0]/b[0] # c'_1\n",
    "    g[0] = d[0]/b[0] # d'_1\n",
    "\n",
    "    for i in range(1, n - 1):\n",
    "        w[i] = c[i] / (b[i] - a[i] * w[i - 1])\n",
    "        g[i] = (d[i] - a[i]* g[i - 1]) / (b[i] - \\\n",
    "                                                      a[i] * w[i - 1])\n",
    "\n",
    "    g[n - 1] = (d[n - 1] - a[n - 1]* g[n - 2]) / (b[n - 1] - \\\n",
    "                                                     a[n - 1] * w[n - 2])\n",
    "    res[n - 1] = g[n - 1]\n",
    "    for i in range(n - 2, -1, -1 ):\n",
    "        res[i] = g[i] - w[i] * res[i + 1]\n",
    "    return res"
   ]
  },
  {
   "cell_type": "code",
   "execution_count": 8,
   "id": "2a420eb2",
   "metadata": {},
   "outputs": [],
   "source": [
    "for n in range (0,10):\n",
    "    #number of points & steps\n",
    "    tau1 = t/N1\n",
    "    tau2 = t/N2\n",
    "    T1 = np.linspace(0, t, N1+1)\n",
    "    T2 = np.linspace(0, t, N2+1)\n",
    "    #arrays\n",
    "    U1 = np.zeros([N1+1, M+1])\n",
    "    I1 = np.zeros([N1+1, M+1])\n",
    "    C1 = np.zeros([N1+1, M+1])\n",
    "    M1 = np.zeros([N1+1, M+1])\n",
    "    U2 = np.zeros([N2+1, M+1])\n",
    "    I2 = np.zeros([N2+1, M+1])\n",
    "    C2 = np.zeros([N2+1, M+1])\n",
    "    M2 = np.zeros([N2+1, M+1])\n",
    "    #initial\n",
    "    U1[0,:] = U_0\n",
    "    I1[0,:] = I_0\n",
    "    M1[0] = np.ones(M + 1) * M1_0\n",
    "    M1[0, 401::] = 0\n",
    "    C1[0] = np.ones(M + 1) * C1_0\n",
    "    C1[0, 401::] = 0\n",
    "    \n",
    "    U2[0,:] = U_0\n",
    "    I2[0,:] = I_0\n",
    "    M2[0] = np.ones(M + 1) * M1_0\n",
    "    M2[0, 401::] = 0\n",
    "    C2[0] = np.ones(M + 1) * C1_0\n",
    "    C2[0, 401::] = 0\n",
    "    \n",
    "    s1 = (D_C1*tau1)/(h**2)\n",
    "    s2 = (D_M1*tau1)/(h**2)\n",
    "    #calculations\n",
    "    for i in range(1, N1+1):\n",
    "        a = np.zeros(M+1)\n",
    "        b = np.zeros(M+1)\n",
    "        c = np.zeros(M+1)\n",
    "        d = np.zeros(M+1)\n",
    "        a[0] = 0\n",
    "        a[1:M+1] = -s1\n",
    "        b[0] = 1 +s1\n",
    "        b[1:M] = 1 + 2*s1\n",
    "        b[M] = 1+s1\n",
    "        c[0:M] = -s1\n",
    "        c[M] = 0\n",
    "        d[0:M+1] = (tau1*A1*C1[i-1,0:M+1]*M1[i-1,0:M+1])/(1+b2*C1[i-1,0:M+1]) + tau1*k1*I1[i-1,0:M+1] + (1 -tau1*g1)*C1[i-1,0:M+1]\n",
    "\n",
    "        a1 = np.zeros(M+1)\n",
    "        b1 = np.zeros(M+1)\n",
    "        c1 = np.zeros(M+1)\n",
    "        d1 = np.zeros(M+1)\n",
    "        a1[0] = 0\n",
    "        a1[1:M+1]= -s2\n",
    "        b1[0] =1 + s2\n",
    "        b1[1:M] = 1 + 2*s2\n",
    "        b[M] = 1+s2\n",
    "        c1[0:M]=  -s2\n",
    "        c1[M]= 0\n",
    "        d1[0:M+1] = (tau1*a3*C1[i-1,0:M+1])/(1+b3*C1[i-1,0:M+1])  + (1 - tau1*g3)*M1[i-1,0:M+1]\n",
    "\n",
    "        C1[i] = Thomas_Method(a, b, c, d)\n",
    "        M1[i] = Thomas_Method(a1, b1, c1, d1)\n",
    "        U1[i]=kappa*tau1*U_0 + (1-kappa*tau1)*U1[i-1]-tau1*(alpha*U1[i-1]*C1[i-1])/(1+B1*C1[i-1])\n",
    "        I1[i]=tau1*(alpha*U1[i-1]*C1[i-1])/(1+B1*C1[i-1]) + (1-beta*tau1)*I1[i-1]\n",
    "        \n",
    "    s1 = (D_C1*tau2)/(h**2)\n",
    "    s2 = (D_M1*tau2)/(h**2)\n",
    "    for i in range(1, N2+1):\n",
    "        a = np.zeros(M+1)\n",
    "        b = np.zeros(M+1)\n",
    "        c = np.zeros(M+1)\n",
    "        d = np.zeros(M+1)\n",
    "        a[0] = 0\n",
    "        a[1:M+1] = -s1\n",
    "        b[0] = 1 +s1\n",
    "        b[1:M] = 1 + 2*s1\n",
    "        b[M] = 1+s1\n",
    "        c[0:M] = -s1\n",
    "        c[M] = 0\n",
    "        d[0:M+1] = (tau2*A1*C2[i-1,0:M+1]*M2[i-1,0:M+1])/(1+b2*C2[i-1,0:M+1]) + tau2*k1*I2[i-1,0:M+1] + (1 -tau2*g1)*C2[i-1,0:M+1]\n",
    "\n",
    "        a1 = np.zeros(M+1)\n",
    "        b1 = np.zeros(M+1)\n",
    "        c1 = np.zeros(M+1)\n",
    "        d1 = np.zeros(M+1)\n",
    "        a1[0] = 0\n",
    "        a1[1:M+1]= -s2\n",
    "        b1[0] =1 + s2\n",
    "        b1[1:M] = 1 + 2*s2\n",
    "        b[M] = 1+s2\n",
    "        c1[0:M]=  -s2\n",
    "        c1[M]= 0\n",
    "        d1[0:M+1] = (tau2*a3*C2[i-1,0:M+1])/(1+b3*C2[i-1,0:M+1])  + (1 - tau2*g3)*M2[i-1,0:M+1]\n",
    "\n",
    "        C2[i] = Thomas_Method(a, b, c, d)\n",
    "        M2[i] = Thomas_Method(a1, b1, c1, d1)\n",
    "        U2[i]=kappa*tau2*U_0 + (1-kappa*tau2)*U2[i-1]-tau2*(alpha*U2[i-1]*C2[i-1])/(1+B1*C2[i-1])\n",
    "        I2[i]=tau2*(alpha*U2[i-1]*C2[i-1])/(1+B1*C2[i-1]) + (1-beta*tau2)*I2[i-1]\n",
    "    \n",
    "    #accuracy\n",
    "    Abs = np.zeros([t, M+1])\n",
    "    e1 = int(N1/t)\n",
    "    e2 = int(N2/t)\n",
    "    for k in range (0,t):\n",
    "        for j in range (0, M+1):\n",
    "            Abs[k, j] = (abs(U1[e1*k, j] - U2[e2*k, j]))/U1[e1*k, j]\n",
    "    Abs[np.isnan(Abs)] = 0\n",
    "    Abs[Abs == np.inf] = 0\n",
    "    Q[n] = np.amax(Abs)\n",
    "    Step[n] = t/N2\n",
    "    #next\n",
    "    N1+=1000\n",
    "    N2+=1000"
   ]
  },
  {
   "cell_type": "code",
   "execution_count": 9,
   "id": "a230d51b",
   "metadata": {},
   "outputs": [
    {
     "data": {
      "text/plain": [
       "11000"
      ]
     },
     "execution_count": 9,
     "metadata": {},
     "output_type": "execute_result"
    }
   ],
   "source": [
    "N1"
   ]
  },
  {
   "cell_type": "code",
   "execution_count": 10,
   "id": "82d410ba",
   "metadata": {},
   "outputs": [
    {
     "data": {
      "text/plain": [
       "1000"
      ]
     },
     "execution_count": 10,
     "metadata": {},
     "output_type": "execute_result"
    }
   ],
   "source": [
    "len(Abs)"
   ]
  },
  {
   "cell_type": "code",
   "execution_count": 11,
   "id": "1e00481e",
   "metadata": {},
   "outputs": [
    {
     "data": {
      "text/plain": [
       "array([0.01945209, 0.0061381 , 0.00299438, 0.00177172, 0.00117075,\n",
       "       0.00083121, 0.00062079, 0.0004814 , 0.0003843 , 0.00031396])"
      ]
     },
     "execution_count": 11,
     "metadata": {},
     "output_type": "execute_result"
    }
   ],
   "source": [
    "Q"
   ]
  },
  {
   "cell_type": "code",
   "execution_count": 13,
   "id": "78b97bf8",
   "metadata": {},
   "outputs": [
    {
     "data": {
      "text/plain": [
       "array([0.5       , 0.33333333, 0.25      , 0.2       , 0.16666667,\n",
       "       0.14285714, 0.125     , 0.11111111, 0.1       , 0.09090909])"
      ]
     },
     "execution_count": 13,
     "metadata": {},
     "output_type": "execute_result"
    }
   ],
   "source": [
    "Step"
   ]
  },
  {
   "cell_type": "code",
   "execution_count": 12,
   "id": "f596dd70",
   "metadata": {},
   "outputs": [
    {
     "data": {
      "image/png": "[encoded data removed]",
      "text/plain": [
       "<Figure size 1000x500 with 1 Axes>"
      ]
     },
     "metadata": {},
     "output_type": "display_data"
    }
   ],
   "source": [
    "plt.figure(figsize=(10,5))\n",
    "#plt.title(\"Dependence of C1 on beta with a3 = 0.2\")\n",
    "\n",
    "plt.plot(Step, Q, c = 'red')\n",
    "\n",
    "\n",
    "plt.xlabel('$Шаг$ $по$ $времени$')\n",
    "plt.ylabel('$Относительная$ $погрешность$')\n",
    "\n",
    "plt.grid()\n",
    "plt.show()"
   ]
  },
  {
   "cell_type": "code",
   "execution_count": 177,
   "id": "2f2f899a",
   "metadata": {},
   "outputs": [],
   "source": [
    "Step1 = np.zeros(10)\n",
    "Step1[0] = 2000\n",
    "for i in range (1,10):\n",
    "    Step1[i] = Step1[i-1] + 1000\n",
    "    "
   ]
  },
  {
   "cell_type": "code",
   "execution_count": 178,
   "id": "22487165",
   "metadata": {},
   "outputs": [
    {
     "data": {
      "text/plain": [
       "array([ 2000.,  3000.,  4000.,  5000.,  6000.,  7000.,  8000.,  9000.,\n",
       "       10000., 11000.])"
      ]
     },
     "execution_count": 178,
     "metadata": {},
     "output_type": "execute_result"
    }
   ],
   "source": [
    "Step1"
   ]
  },
  {
   "cell_type": "code",
   "execution_count": 180,
   "id": "51f198ff",
   "metadata": {},
   "outputs": [
    {
     "data": {
      "image/png": "[encoded data removed]",
      "text/plain": [
       "<Figure size 1000x500 with 1 Axes>"
      ]
     },
     "metadata": {},
     "output_type": "display_data"
    }
   ],
   "source": [
    "plt.figure(figsize=(10,5))\n",
    "\n",
    "plt.plot(Step1, Q, c = 'red')\n",
    "\n",
    "\n",
    "plt.xlabel('$Число$ $точек$')\n",
    "plt.ylabel('$Относительная$ $точность$')\n",
    "\n",
    "plt.grid()\n",
    "plt.show()"
   ]
  },
  {
   "cell_type": "code",
   "execution_count": null,
   "id": "21bbb769",
   "metadata": {},
   "outputs": [],
   "source": []
  }
 ],
 "metadata": {
  "colab": {
   "provenance": []
  },
  "kernelspec": {
   "display_name": "Python 3 (ipykernel)",
   "language": "python",
   "name": "python3"
  },
  "language_info": {
   "codemirror_mode": {
    "name": "ipython",
    "version": 3
   },
   "file_extension": ".py",
   "mimetype": "text/x-python",
   "name": "python",
   "nbconvert_exporter": "python",
   "pygments_lexer": "ipython3",
   "version": "3.10.7"
  }
 },
 "nbformat": 4,
 "nbformat_minor": 5
}
